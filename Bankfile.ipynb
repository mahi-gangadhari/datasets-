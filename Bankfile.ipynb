{
 "cells": [
  {
   "cell_type": "code",
   "execution_count": 310,
   "id": "32179185-71ae-4d46-a07f-a898ce39c2ec",
   "metadata": {},
   "outputs": [],
   "source": [
    "import pandas as pd\n",
    "import numpy as np\n",
    "import matplotlib.pyplot as plt\n",
    "%matplotlib inline"
   ]
  },
  {
   "cell_type": "code",
   "execution_count": 311,
   "id": "285e6031-e36c-4c6f-8ff7-dc8a13fb773d",
   "metadata": {},
   "outputs": [
    {
     "name": "stdout",
     "output_type": "stream",
     "text": [
      "C:\\Users\\gmahe\\OneDrive\\Desktop\\ml\n"
     ]
    }
   ],
   "source": [
    "import io\n",
    "%cd \"C:\\Users\\gmahe\\OneDrive\\Desktop\\ml\""
   ]
  },
  {
   "cell_type": "code",
   "execution_count": 312,
   "id": "24df2476-2df5-4644-a0c6-62824769f948",
   "metadata": {},
   "outputs": [],
   "source": [
    "# import bank-full.csv as bankdata\n",
    "bankfile=pd.read_csv(\"bank-full.csv\")"
   ]
  },
  {
   "cell_type": "code",
   "execution_count": 313,
   "id": "90ea5b45-f66b-413b-a65d-d2cfe80fe46f",
   "metadata": {},
   "outputs": [
    {
     "data": {
      "text/plain": [
       "Index(['age', 'job', 'marital', 'education', 'default', 'balance', 'housing',\n",
       "       'loan', 'contact', 'day', 'month', 'duration', 'campaign', 'pdays',\n",
       "       'previous', 'poutcome', 'y'],\n",
       "      dtype='object')"
      ]
     },
     "execution_count": 313,
     "metadata": {},
     "output_type": "execute_result"
    }
   ],
   "source": [
    "# info(),columns on data\n",
    "bankfile.columns"
   ]
  },
  {
   "cell_type": "code",
   "execution_count": 314,
   "id": "d128c827-f46d-4166-ad53-92adcb2cfb9c",
   "metadata": {},
   "outputs": [
    {
     "name": "stdout",
     "output_type": "stream",
     "text": [
      "<class 'pandas.core.frame.DataFrame'>\n",
      "RangeIndex: 45211 entries, 0 to 45210\n",
      "Data columns (total 17 columns):\n",
      " #   Column     Non-Null Count  Dtype \n",
      "---  ------     --------------  ----- \n",
      " 0   age        45211 non-null  int64 \n",
      " 1   job        45211 non-null  object\n",
      " 2   marital    45211 non-null  object\n",
      " 3   education  45211 non-null  object\n",
      " 4   default    45211 non-null  object\n",
      " 5   balance    45211 non-null  int64 \n",
      " 6   housing    45211 non-null  object\n",
      " 7   loan       45211 non-null  object\n",
      " 8   contact    45211 non-null  object\n",
      " 9   day        45211 non-null  int64 \n",
      " 10  month      45211 non-null  object\n",
      " 11  duration   45211 non-null  int64 \n",
      " 12  campaign   45211 non-null  int64 \n",
      " 13  pdays      45211 non-null  int64 \n",
      " 14  previous   45211 non-null  int64 \n",
      " 15  poutcome   45211 non-null  object\n",
      " 16  y          45211 non-null  object\n",
      "dtypes: int64(7), object(10)\n",
      "memory usage: 5.9+ MB\n"
     ]
    }
   ],
   "source": [
    "bankfile.info()"
   ]
  },
  {
   "cell_type": "code",
   "execution_count": 315,
   "id": "c40a7ea5-8b07-4ca9-8c67-fe5fb6afe926",
   "metadata": {},
   "outputs": [
    {
     "data": {
      "text/html": [
       "<div>\n",
       "<style scoped>\n",
       "    .dataframe tbody tr th:only-of-type {\n",
       "        vertical-align: middle;\n",
       "    }\n",
       "\n",
       "    .dataframe tbody tr th {\n",
       "        vertical-align: top;\n",
       "    }\n",
       "\n",
       "    .dataframe thead th {\n",
       "        text-align: right;\n",
       "    }\n",
       "</style>\n",
       "<table border=\"1\" class=\"dataframe\">\n",
       "  <thead>\n",
       "    <tr style=\"text-align: right;\">\n",
       "      <th></th>\n",
       "      <th>age</th>\n",
       "      <th>balance</th>\n",
       "      <th>duration</th>\n",
       "    </tr>\n",
       "  </thead>\n",
       "  <tbody>\n",
       "    <tr>\n",
       "      <th>count</th>\n",
       "      <td>45211.000000</td>\n",
       "      <td>45211.000000</td>\n",
       "      <td>45211.000000</td>\n",
       "    </tr>\n",
       "    <tr>\n",
       "      <th>mean</th>\n",
       "      <td>40.936210</td>\n",
       "      <td>1362.272058</td>\n",
       "      <td>258.163080</td>\n",
       "    </tr>\n",
       "    <tr>\n",
       "      <th>std</th>\n",
       "      <td>10.618762</td>\n",
       "      <td>3044.765829</td>\n",
       "      <td>257.527812</td>\n",
       "    </tr>\n",
       "    <tr>\n",
       "      <th>min</th>\n",
       "      <td>18.000000</td>\n",
       "      <td>-8019.000000</td>\n",
       "      <td>0.000000</td>\n",
       "    </tr>\n",
       "    <tr>\n",
       "      <th>25%</th>\n",
       "      <td>33.000000</td>\n",
       "      <td>72.000000</td>\n",
       "      <td>103.000000</td>\n",
       "    </tr>\n",
       "    <tr>\n",
       "      <th>50%</th>\n",
       "      <td>39.000000</td>\n",
       "      <td>448.000000</td>\n",
       "      <td>180.000000</td>\n",
       "    </tr>\n",
       "    <tr>\n",
       "      <th>75%</th>\n",
       "      <td>48.000000</td>\n",
       "      <td>1428.000000</td>\n",
       "      <td>319.000000</td>\n",
       "    </tr>\n",
       "    <tr>\n",
       "      <th>max</th>\n",
       "      <td>95.000000</td>\n",
       "      <td>102127.000000</td>\n",
       "      <td>4918.000000</td>\n",
       "    </tr>\n",
       "  </tbody>\n",
       "</table>\n",
       "</div>"
      ],
      "text/plain": [
       "                age        balance      duration\n",
       "count  45211.000000   45211.000000  45211.000000\n",
       "mean      40.936210    1362.272058    258.163080\n",
       "std       10.618762    3044.765829    257.527812\n",
       "min       18.000000   -8019.000000      0.000000\n",
       "25%       33.000000      72.000000    103.000000\n",
       "50%       39.000000     448.000000    180.000000\n",
       "75%       48.000000    1428.000000    319.000000\n",
       "max       95.000000  102127.000000   4918.000000"
      ]
     },
     "execution_count": 315,
     "metadata": {},
     "output_type": "execute_result"
    }
   ],
   "source": [
    "# describe() of age, balance, duration\n",
    "bankfile[['age','balance','duration']].describe()"
   ]
  },
  {
   "cell_type": "code",
   "execution_count": 316,
   "id": "47b60c6d-404f-480e-a63d-e566178e1729",
   "metadata": {},
   "outputs": [
    {
     "data": {
      "text/plain": [
       "count     45211.000000\n",
       "mean       1362.272058\n",
       "std        3044.765829\n",
       "min       -8019.000000\n",
       "25%          72.000000\n",
       "50%         448.000000\n",
       "75%        1428.000000\n",
       "max      102127.000000\n",
       "Name: balance, dtype: float64"
      ]
     },
     "execution_count": 316,
     "metadata": {},
     "output_type": "execute_result"
    }
   ],
   "source": [
    "bankfile.balance.describe()"
   ]
  },
  {
   "cell_type": "code",
   "execution_count": 317,
   "id": "c659aa5a-5fd3-4462-8723-9fcb7193fa47",
   "metadata": {},
   "outputs": [
    {
     "data": {
      "text/plain": [
       "count    45211.000000\n",
       "mean       258.163080\n",
       "std        257.527812\n",
       "min          0.000000\n",
       "25%        103.000000\n",
       "50%        180.000000\n",
       "75%        319.000000\n",
       "max       4918.000000\n",
       "Name: duration, dtype: float64"
      ]
     },
     "execution_count": 317,
     "metadata": {},
     "output_type": "execute_result"
    }
   ],
   "source": [
    "bankfile.duration.describe()"
   ]
  },
  {
   "cell_type": "code",
   "execution_count": 318,
   "id": "93c43ade-3f4d-4986-b7e8-b686c6314522",
   "metadata": {},
   "outputs": [
    {
     "data": {
      "text/plain": [
       "<Axes: ylabel='count'>"
      ]
     },
     "execution_count": 318,
     "metadata": {},
     "output_type": "execute_result"
    },
    {
     "data": {
      "image/png": "[encoded data removed]",
      "text/plain": [
       "<Figure size 640x480 with 1 Axes>"
      ]
     },
     "metadata": {},
     "output_type": "display_data"
    }
   ],
   "source": [
    "# Frequency counts of \"y\" with pie diagram & data labels\n",
    "bankfile.y.value_counts().plot(kind=\"pie\",autopct='%.2f%%')\n",
    "# no - NO term Deposit(Negative) "
   ]
  },
  {
   "cell_type": "code",
   "execution_count": 319,
   "id": "a1231565-4184-4fb2-8111-d9fdcbc5c2f4",
   "metadata": {},
   "outputs": [
    {
     "data": {
      "text/plain": [
       "<Axes: ylabel='count'>"
      ]
     },
     "execution_count": 319,
     "metadata": {},
     "output_type": "execute_result"
    },
    {
     "data": {
      "image/png": "[encoded data removed]",
      "text/plain": [
       "<Figure size 640x480 with 1 Axes>"
      ]
     },
     "metadata": {},
     "output_type": "display_data"
    }
   ],
   "source": [
    "# Frequency counts of eduation with pie diagram & data label\n",
    "bankfile.education.value_counts().plot(kind=\"pie\",autopct='%.2f%%')"
   ]
  },
  {
   "cell_type": "code",
   "execution_count": 320,
   "id": "afe3eeb7-502e-411d-8e36-80846038a3bf",
   "metadata": {},
   "outputs": [
    {
     "data": {
      "image/png": "[encoded data removed]",
      "text/plain": [
       "<Figure size 640x480 with 1 Axes>"
      ]
     },
     "metadata": {},
     "output_type": "display_data"
    }
   ],
   "source": [
    "# Frequency counts of job with bar chart and data labels\n",
    "ax=bankfile.job.value_counts().plot(kind=\"bar\")\n",
    "for i in ax.containers:\n",
    "   ax.bar_label(i)"
   ]
  },
  {
   "cell_type": "code",
   "execution_count": 321,
   "id": "dae8720a-f7b2-4aa7-8218-45ebc79cdee4",
   "metadata": {},
   "outputs": [
    {
     "data": {
      "image/png": "[encoded data removed]",
      "text/plain": [
       "<Figure size 640x480 with 1 Axes>"
      ]
     },
     "metadata": {},
     "output_type": "display_data"
    }
   ],
   "source": [
    "# Frequency Counts of \"marital\" & bar chart with datalabel\n",
    "ax=bankfile.marital.value_counts().plot(kind=\"bar\")\n",
    "for i in ax.containers:\n",
    "   ax.bar_label(i)"
   ]
  },
  {
   "cell_type": "code",
   "execution_count": 322,
   "id": "1dbffacb-1a75-48f1-83b2-583688cb286b",
   "metadata": {},
   "outputs": [
    {
     "data": {
      "text/plain": [
       "<Axes: xlabel='default'>"
      ]
     },
     "execution_count": 322,
     "metadata": {},
     "output_type": "execute_result"
    },
    {
     "data": {
      "image/png": "[encoded data removed]",
      "text/plain": [
       "<Figure size 640x480 with 1 Axes>"
      ]
     },
     "metadata": {},
     "output_type": "display_data"
    }
   ],
   "source": [
    "# Cross Tabulation of default & loan with Stacked Bar Chart & data labels\n",
    "pd.crosstab(bankfile.default,bankfile.loan).plot(kind=\"bar\",stacked=True)"
   ]
  },
  {
   "cell_type": "code",
   "execution_count": 323,
   "id": "216f7f88-b1c5-47d6-95b9-3a1b62c24060",
   "metadata": {},
   "outputs": [
    {
     "data": {
      "text/plain": [
       "<Axes: xlabel='housing'>"
      ]
     },
     "execution_count": 323,
     "metadata": {},
     "output_type": "execute_result"
    },
    {
     "data": {
      "image/png": "[encoded data removed]",
      "text/plain": [
       "<Figure size 640x480 with 1 Axes>"
      ]
     },
     "metadata": {},
     "output_type": "display_data"
    }
   ],
   "source": [
    "# Cross Tabulation of housing and marital with Stacked Bar Chart and data\n",
    "pd.crosstab(bankfile.housing,bankfile.marital).plot(kind=\"bar\",stacked=True)"
   ]
  },
  {
   "cell_type": "code",
   "execution_count": 324,
   "id": "215b22f9-7b48-46ac-af36-3f4bb3ae71f3",
   "metadata": {},
   "outputs": [],
   "source": [
    "# Histogram, Boxplot and Density Curve on balance and duration\n",
    "import seaborn as sns"
   ]
  },
  {
   "cell_type": "code",
   "execution_count": 325,
   "id": "ed78938a-77f9-4b4b-94cf-3bd80f178378",
   "metadata": {},
   "outputs": [
    {
     "data": {
      "image/png": "[encoded data removed]",
      "text/plain": [
       "<Figure size 640x480 with 3 Axes>"
      ]
     },
     "metadata": {},
     "output_type": "display_data"
    }
   ],
   "source": [
    "fig,ax=plt.subplots(3,1) # Break Plot window into 3 rows & 1 column\n",
    "sns.histplot(bankfile.balance,ax=ax[0]) # Histogram\n",
    "sns.boxplot(bankfile.balance,ax=ax[1],orient=\"h\") # Boxplot - Horizontal\n",
    "sns.kdeplot(bankfile.balance,ax=ax[2])# density curve\n",
    "plt.show()"
   ]
  },
  {
   "cell_type": "code",
   "execution_count": 326,
   "id": "4e72d527-a844-435c-989f-c5466bccfdd3",
   "metadata": {},
   "outputs": [
    {
     "data": {
      "image/png": "[encoded data removed]",
      "text/plain": [
       "<Figure size 640x480 with 3 Axes>"
      ]
     },
     "metadata": {},
     "output_type": "display_data"
    }
   ],
   "source": [
    "fig,ax=plt.subplots(3,1) # Break Plot window into 3 rows & 1 column\n",
    "sns.histplot(bankfile.duration,ax=ax[0]) # Histogram\n",
    "sns.boxplot(bankfile.duration,ax=ax[1],orient=\"h\") # Boxplot - Horizontal\n",
    "sns.kdeplot(bankfile.duration,ax=ax[2])# density curve\n",
    "plt.show()"
   ]
  },
  {
   "cell_type": "code",
   "execution_count": 327,
   "id": "84876492-55db-4509-a73a-38a683bbcc91",
   "metadata": {},
   "outputs": [
    {
     "name": "stdout",
     "output_type": "stream",
     "text": [
      "<class 'pandas.core.frame.DataFrame'>\n",
      "RangeIndex: 45211 entries, 0 to 45210\n",
      "Data columns (total 17 columns):\n",
      " #   Column     Non-Null Count  Dtype \n",
      "---  ------     --------------  ----- \n",
      " 0   age        45211 non-null  int64 \n",
      " 1   job        45211 non-null  object\n",
      " 2   marital    45211 non-null  object\n",
      " 3   education  45211 non-null  object\n",
      " 4   default    45211 non-null  object\n",
      " 5   balance    45211 non-null  int64 \n",
      " 6   housing    45211 non-null  object\n",
      " 7   loan       45211 non-null  object\n",
      " 8   contact    45211 non-null  object\n",
      " 9   day        45211 non-null  int64 \n",
      " 10  month      45211 non-null  object\n",
      " 11  duration   45211 non-null  int64 \n",
      " 12  campaign   45211 non-null  int64 \n",
      " 13  pdays      45211 non-null  int64 \n",
      " 14  previous   45211 non-null  int64 \n",
      " 15  poutcome   45211 non-null  object\n",
      " 16  y          45211 non-null  object\n",
      "dtypes: int64(7), object(10)\n",
      "memory usage: 5.9+ MB\n"
     ]
    }
   ],
   "source": [
    "bankfile.info()"
   ]
  },
  {
   "cell_type": "code",
   "execution_count": 328,
   "id": "f0bc240c-bae4-474d-82cc-1c8f550b158e",
   "metadata": {},
   "outputs": [
    {
     "data": {
      "text/plain": [
       "y\n",
       "no     1303.714969\n",
       "yes    1804.267915\n",
       "Name: balance, dtype: float64"
      ]
     },
     "execution_count": 328,
     "metadata": {},
     "output_type": "execute_result"
    }
   ],
   "source": [
    "# Average balance of y\n",
    "bankfile.balance.groupby(bankfile.y).mean()"
   ]
  },
  {
   "cell_type": "code",
   "execution_count": 329,
   "id": "b6eae85b-7c0f-4a14-94f0-9de94a55a9bb",
   "metadata": {},
   "outputs": [
    {
     "data": {
      "text/plain": [
       "marital\n",
       "divorced    1178.872287\n",
       "married     1425.925590\n",
       "single      1301.497654\n",
       "Name: balance, dtype: float64"
      ]
     },
     "execution_count": 329,
     "metadata": {},
     "output_type": "execute_result"
    }
   ],
   "source": [
    "# Average balance of marital\n",
    "bankfile.balance.groupby(bankfile.marital).mean()"
   ]
  },
  {
   "cell_type": "code",
   "execution_count": 330,
   "id": "6b85ba66-77f4-412b-b377-4761a25f6513",
   "metadata": {},
   "outputs": [
    {
     "data": {
      "text/plain": [
       "job\n",
       "admin.           246.896732\n",
       "blue-collar      262.901562\n",
       "entrepreneur     256.309348\n",
       "housemaid        245.825000\n",
       "management       253.995771\n",
       "retired          287.361307\n",
       "self-employed    268.157061\n",
       "services         259.318729\n",
       "student          246.656716\n",
       "technician       252.904962\n",
       "unemployed       288.543361\n",
       "unknown          237.611111\n",
       "Name: duration, dtype: float64"
      ]
     },
     "execution_count": 330,
     "metadata": {},
     "output_type": "execute_result"
    }
   ],
   "source": [
    "# Average duration of job\n",
    "bankfile.duration.groupby(bankfile.job).mean()"
   ]
  },
  {
   "cell_type": "code",
   "execution_count": 331,
   "id": "0b2c442d-b438-40dd-ac4e-f7f7401719c4",
   "metadata": {},
   "outputs": [
    {
     "data": {
      "text/plain": [
       "education\n",
       "primary      403.0\n",
       "secondary    392.0\n",
       "tertiary     577.0\n",
       "unknown      568.0\n",
       "Name: balance, dtype: float64"
      ]
     },
     "execution_count": 331,
     "metadata": {},
     "output_type": "execute_result"
    }
   ],
   "source": [
    "# Median balance of education\n",
    "bankfile.balance.groupby(bankfile.education).median()"
   ]
  },
  {
   "cell_type": "code",
   "execution_count": 332,
   "id": "e69c9f61-387d-434a-8967-0d9a55761874",
   "metadata": {},
   "outputs": [
    {
     "data": {
      "text/plain": [
       "y\n",
       "no     1303.714969\n",
       "yes    1804.267915\n",
       "Name: balance, dtype: float64"
      ]
     },
     "execution_count": 332,
     "metadata": {},
     "output_type": "execute_result"
    }
   ],
   "source": [
    "# Hypothesis Testing\n",
    "# Test Null Average balance of y is equal\n",
    "\n",
    "bankfile.balance.groupby(bankfile.y).mean()"
   ]
  },
  {
   "cell_type": "code",
   "execution_count": 333,
   "id": "d44c8668-899a-4e85-862d-dba7ec7b5e0c",
   "metadata": {},
   "outputs": [],
   "source": [
    "noto=bankfile[bankfile.y==\"no\"]\n",
    "yesto=bankfile[bankfile.y==\"yes\"]"
   ]
  },
  {
   "cell_type": "code",
   "execution_count": 334,
   "id": "0480694a-3182-4427-b9a6-b66bfa0ab06f",
   "metadata": {},
   "outputs": [],
   "source": [
    "from scipy.stats import ttest_ind"
   ]
  },
  {
   "cell_type": "code",
   "execution_count": 335,
   "id": "6efb2937-cfcc-45ac-9bb5-35dfbb1d8298",
   "metadata": {},
   "outputs": [
    {
     "data": {
      "text/plain": [
       "TtestResult(statistic=-9.933545392962255, pvalue=4.3837327771001536e-23, df=6339.800439872401)"
      ]
     },
     "execution_count": 335,
     "metadata": {},
     "output_type": "execute_result"
    }
   ],
   "source": [
    "ttest_ind(noto.balance,yesto.balance,equal_var=False)\n",
    "# since pvalue=4.3837327 less than 0.05 Reject null\n",
    "# null- no "
   ]
  },
  {
   "cell_type": "code",
   "execution_count": 336,
   "id": "b596f3d2-b873-4bf5-ba47-50fd650c5af6",
   "metadata": {},
   "outputs": [
    {
     "data": {
      "text/plain": [
       "housing\n",
       "no     1596.501270\n",
       "yes    1175.103064\n",
       "Name: balance, dtype: float64"
      ]
     },
     "execution_count": 336,
     "metadata": {},
     "output_type": "execute_result"
    }
   ],
   "source": [
    "# Test Null Average balance of housing is equal\n",
    "\n",
    "bankfile.balance.groupby(bankfile.housing).mean()"
   ]
  },
  {
   "cell_type": "code",
   "execution_count": 337,
   "id": "41701364-8729-496a-94ea-a9bebc7a8d56",
   "metadata": {},
   "outputs": [],
   "source": [
    "noto=bankfile[bankfile.housing==\"no\"]\n",
    "yesto=bankfile[bankfile.housing==\"yes\"]"
   ]
  },
  {
   "cell_type": "code",
   "execution_count": 338,
   "id": "803e7a2e-7f9a-45de-bd0b-51650f244523",
   "metadata": {},
   "outputs": [
    {
     "data": {
      "text/plain": [
       "TtestResult(statistic=14.081117553694206, pvalue=6.625425926072512e-45, df=34203.875314527795)"
      ]
     },
     "execution_count": 338,
     "metadata": {},
     "output_type": "execute_result"
    }
   ],
   "source": [
    "ttest_ind(noto.balance,yesto.balance,equal_var=False)\n",
    "# since pvalue=6.625425 less than 0.05 Reject null"
   ]
  },
  {
   "cell_type": "code",
   "execution_count": 339,
   "id": "08058bb6-cf17-4012-adfa-bf67eec4416d",
   "metadata": {},
   "outputs": [
    {
     "data": {
      "text/plain": [
       "marital\n",
       "divorced    1178.872287\n",
       "married     1425.925590\n",
       "single      1301.497654\n",
       "Name: balance, dtype: float64"
      ]
     },
     "execution_count": 339,
     "metadata": {},
     "output_type": "execute_result"
    }
   ],
   "source": [
    "# Test Null Average balance of marital is equal\n",
    "bankfile.balance.groupby(bankfile.marital).mean()"
   ]
  },
  {
   "cell_type": "code",
   "execution_count": 340,
   "id": "2f300d6a-106d-4b86-84aa-73261f90b079",
   "metadata": {},
   "outputs": [],
   "source": [
    "divorcedf=bankfile[bankfile.marital==\"divorced\"]\n",
    "marriedf=bankfile[bankfile.marital==\"married\"]\n",
    "singlef=bankfile[bankfile.marital==\"single\"]"
   ]
  },
  {
   "cell_type": "code",
   "execution_count": 341,
   "id": "d5cd38aa-41a2-4a28-90b1-34025c8b177a",
   "metadata": {},
   "outputs": [],
   "source": [
    "from scipy.stats import f_oneway"
   ]
  },
  {
   "cell_type": "code",
   "execution_count": 342,
   "id": "e7e0288f-e3a4-4ece-be23-9b9a480bcf86",
   "metadata": {},
   "outputs": [
    {
     "data": {
      "text/plain": [
       "F_onewayResult(statistic=17.954318144453257, pvalue=1.6055869132631893e-08)"
      ]
     },
     "execution_count": 342,
     "metadata": {},
     "output_type": "execute_result"
    }
   ],
   "source": [
    "f_oneway(divorcedf.balance,marriedf.balance,singlef.balance)\n",
    "# since pvalue=1.60558 less than 0.05 Reject null"
   ]
  },
  {
   "cell_type": "code",
   "execution_count": 343,
   "id": "2ef2be6d-26b8-4530-a6fc-22c0ad3a2e2e",
   "metadata": {},
   "outputs": [
    {
     "data": {
      "text/plain": [
       "education\n",
       "primary      255.933002\n",
       "secondary    258.685760\n",
       "tertiary     258.518532\n",
       "unknown      257.313947\n",
       "Name: duration, dtype: float64"
      ]
     },
     "execution_count": 343,
     "metadata": {},
     "output_type": "execute_result"
    }
   ],
   "source": [
    "# Test Null Average duration of education is equal\n",
    "bankfile.duration.groupby(bankfile.education).mean()"
   ]
  },
  {
   "cell_type": "code",
   "execution_count": 344,
   "id": "5aac0afa-e43c-4c24-b29f-ec9a584e8a6d",
   "metadata": {},
   "outputs": [],
   "source": [
    "prif=bankfile[bankfile.education==\"primary\"]\n",
    "secf=bankfile[bankfile.education==\"secondary\"]\n",
    "terf=bankfile[bankfile.education==\"tertiary\"]\n",
    "unkf=bankfile[bankfile.education==\"unknown\"]"
   ]
  },
  {
   "cell_type": "code",
   "execution_count": 345,
   "id": "31c18887-58a6-4a01-b1a7-011979d40f1b",
   "metadata": {},
   "outputs": [
    {
     "data": {
      "text/plain": [
       "F_onewayResult(statistic=116.68207421466668, pvalue=2.8495378703538485e-75)"
      ]
     },
     "execution_count": 345,
     "metadata": {},
     "output_type": "execute_result"
    }
   ],
   "source": [
    "f_oneway(prif.balance,secf.balance,terf.balance,unkf.balance)\n",
    "# since pvalue=2.849537  less than 0.05 Reject null"
   ]
  },
  {
   "cell_type": "code",
   "execution_count": 346,
   "id": "65b0caab-2e7d-45da-902f-61893a7a9c32",
   "metadata": {},
   "outputs": [
    {
     "data": {
      "text/html": [
       "<div>\n",
       "<style scoped>\n",
       "    .dataframe tbody tr th:only-of-type {\n",
       "        vertical-align: middle;\n",
       "    }\n",
       "\n",
       "    .dataframe tbody tr th {\n",
       "        vertical-align: top;\n",
       "    }\n",
       "\n",
       "    .dataframe thead th {\n",
       "        text-align: right;\n",
       "    }\n",
       "</style>\n",
       "<table border=\"1\" class=\"dataframe\">\n",
       "  <thead>\n",
       "    <tr style=\"text-align: right;\">\n",
       "      <th>default</th>\n",
       "      <th>no</th>\n",
       "      <th>yes</th>\n",
       "    </tr>\n",
       "    <tr>\n",
       "      <th>y</th>\n",
       "      <th></th>\n",
       "      <th></th>\n",
       "    </tr>\n",
       "  </thead>\n",
       "  <tbody>\n",
       "    <tr>\n",
       "      <th>no</th>\n",
       "      <td>39159</td>\n",
       "      <td>763</td>\n",
       "    </tr>\n",
       "    <tr>\n",
       "      <th>yes</th>\n",
       "      <td>5237</td>\n",
       "      <td>52</td>\n",
       "    </tr>\n",
       "  </tbody>\n",
       "</table>\n",
       "</div>"
      ],
      "text/plain": [
       "default     no  yes\n",
       "y                  \n",
       "no       39159  763\n",
       "yes       5237   52"
      ]
     },
     "execution_count": 346,
     "metadata": {},
     "output_type": "execute_result"
    }
   ],
   "source": [
    "# Test Null No Association between y and default\n",
    "pd.crosstab(bankfile.y,bankfile.default)"
   ]
  },
  {
   "cell_type": "code",
   "execution_count": 347,
   "id": "d650c3eb-088b-4257-ae73-4bd250ec10e4",
   "metadata": {},
   "outputs": [],
   "source": [
    "from scipy.stats import chi2_contingency"
   ]
  },
  {
   "cell_type": "code",
   "execution_count": 348,
   "id": "625cd10d-488d-41d5-a338-f1d8b47bedaf",
   "metadata": {},
   "outputs": [
    {
     "data": {
      "text/plain": [
       "Chi2ContingencyResult(statistic=22.20224995571685, pvalue=2.4538606753508344e-06, dof=1, expected_freq=array([[39202.34261574,   719.65738426],\n",
       "       [ 5193.65738426,    95.34261574]]))"
      ]
     },
     "execution_count": 348,
     "metadata": {},
     "output_type": "execute_result"
    }
   ],
   "source": [
    "chi2_contingency(pd.crosstab(bankfile.y,bankfile.default))"
   ]
  },
  {
   "cell_type": "code",
   "execution_count": 349,
   "id": "7ca03fce-379e-4fca-959f-0a73f3d917c4",
   "metadata": {},
   "outputs": [
    {
     "data": {
      "text/plain": [
       "Chi2ContingencyResult(statistic=76.97480834381858, pvalue=1.7315256945310098e-18, dof=1, expected_freq=array([[16863.49178297, 21103.50821703],\n",
       "       [ 3217.50821703,  4026.49178297]]))"
      ]
     },
     "execution_count": 349,
     "metadata": {},
     "output_type": "execute_result"
    }
   ],
   "source": [
    "# Test Null No Association between loan and housing\n",
    "chi2_contingency(pd.crosstab(bankfile.loan,bankfile.housing))"
   ]
  },
  {
   "cell_type": "code",
   "execution_count": 350,
   "id": "6eda3c78-b879-4d03-b913-a7e89265d231",
   "metadata": {},
   "outputs": [
    {
     "data": {
      "text/plain": [
       "Chi2ContingencyResult(statistic=196.49594565603957, pvalue=2.1450999986791792e-43, dof=2, expected_freq=array([[ 4597.86012254,   609.13987746],\n",
       "       [24030.37552808,  3183.62447192],\n",
       "       [11293.76434938,  1496.23565062]]))"
      ]
     },
     "execution_count": 350,
     "metadata": {},
     "output_type": "execute_result"
    }
   ],
   "source": [
    "# Test Null No Association between marital and y\n",
    "chi2_contingency(pd.crosstab(bankfile.marital,bankfile.y))"
   ]
  },
  {
   "cell_type": "code",
   "execution_count": 351,
   "id": "08c62edd-74f9-4e21-bbba-e19a9207a83c",
   "metadata": {},
   "outputs": [
    {
     "data": {
      "text/plain": [
       "Chi2ContingencyResult(statistic=28483.1364531764, pvalue=0.0, dof=33, expected_freq=array([[ 783.58189379, 1474.72809714,  225.33093716,  187.90205923,\n",
       "        1433.20780341,  343.07279202,  239.27205769,  629.47189843,\n",
       "         142.13881577, 1151.20318064,  197.44869611,   43.6417686 ],\n",
       "       [2653.7245803 , 4994.4010086 ,  763.11901971,  636.36017783,\n",
       "        4853.78593705, 1161.87051824,  810.33283935, 2131.80659574,\n",
       "         481.37568291, 3898.73247661,  668.69138042,  147.79978324],\n",
       "       [1521.29948464, 2863.13799739,  437.47289376,  364.80591007,\n",
       "        2782.5276592 ,  666.06498419,  464.53913871, 1222.09979872,\n",
       "         275.95801907, 2235.02459578,  383.34040388,   84.7291146 ],\n",
       "       [ 212.39404127,  399.73289686,   61.07714937,   50.93185287,\n",
       "         388.47860034,   92.99170556,   64.85596426,  170.62170711,\n",
       "          38.52748225,  312.03974696,   53.51951959,   11.82933357]]))"
      ]
     },
     "execution_count": 351,
     "metadata": {},
     "output_type": "execute_result"
    }
   ],
   "source": [
    "# Test Null No Association between education and job\n",
    "chi2_contingency(pd.crosstab(bankfile.education,bankfile.job))"
   ]
  },
  {
   "cell_type": "code",
   "execution_count": 352,
   "id": "0303cb38-6106-4030-befd-7886d3a423fc",
   "metadata": {},
   "outputs": [],
   "source": [
    "numcols=bankfile.select_dtypes(include=np.number)\n",
    "objcols=bankfile.select_dtypes(include=[\"object\"])"
   ]
  },
  {
   "cell_type": "code",
   "execution_count": 353,
   "id": "244503a5-3c45-42b9-a2c0-d751b66b842c",
   "metadata": {},
   "outputs": [],
   "source": [
    "# labelencode dependent variables\n",
    "from sklearn.preprocessing import StandardScaler"
   ]
  },
  {
   "cell_type": "code",
   "execution_count": 354,
   "id": "15ab2c6f-47c4-4b21-9eb6-dd3cbc1177a5",
   "metadata": {},
   "outputs": [],
   "source": [
    "numcols_scale=StandardScaler().fit_transform(numcols)"
   ]
  },
  {
   "cell_type": "code",
   "execution_count": 355,
   "id": "e90e885d-85eb-43f0-a2cf-a9bf7b20c4e0",
   "metadata": {},
   "outputs": [],
   "source": [
    "numcols_scale=pd.DataFrame(numcols_scale,columns=numcols.columns)"
   ]
  },
  {
   "cell_type": "code",
   "execution_count": 356,
   "id": "34c4d7d5-98d6-4e5a-89a0-d41bdc6adfd2",
   "metadata": {},
   "outputs": [
    {
     "data": {
      "text/html": [
       "<div>\n",
       "<style scoped>\n",
       "    .dataframe tbody tr th:only-of-type {\n",
       "        vertical-align: middle;\n",
       "    }\n",
       "\n",
       "    .dataframe tbody tr th {\n",
       "        vertical-align: top;\n",
       "    }\n",
       "\n",
       "    .dataframe thead th {\n",
       "        text-align: right;\n",
       "    }\n",
       "</style>\n",
       "<table border=\"1\" class=\"dataframe\">\n",
       "  <thead>\n",
       "    <tr style=\"text-align: right;\">\n",
       "      <th></th>\n",
       "      <th>job</th>\n",
       "      <th>marital</th>\n",
       "      <th>education</th>\n",
       "      <th>default</th>\n",
       "      <th>housing</th>\n",
       "      <th>loan</th>\n",
       "      <th>contact</th>\n",
       "      <th>month</th>\n",
       "      <th>poutcome</th>\n",
       "      <th>y</th>\n",
       "    </tr>\n",
       "  </thead>\n",
       "  <tbody>\n",
       "    <tr>\n",
       "      <th>0</th>\n",
       "      <td>management</td>\n",
       "      <td>married</td>\n",
       "      <td>tertiary</td>\n",
       "      <td>no</td>\n",
       "      <td>yes</td>\n",
       "      <td>no</td>\n",
       "      <td>unknown</td>\n",
       "      <td>may</td>\n",
       "      <td>unknown</td>\n",
       "      <td>no</td>\n",
       "    </tr>\n",
       "    <tr>\n",
       "      <th>1</th>\n",
       "      <td>technician</td>\n",
       "      <td>single</td>\n",
       "      <td>secondary</td>\n",
       "      <td>no</td>\n",
       "      <td>yes</td>\n",
       "      <td>no</td>\n",
       "      <td>unknown</td>\n",
       "      <td>may</td>\n",
       "      <td>unknown</td>\n",
       "      <td>no</td>\n",
       "    </tr>\n",
       "    <tr>\n",
       "      <th>2</th>\n",
       "      <td>entrepreneur</td>\n",
       "      <td>married</td>\n",
       "      <td>secondary</td>\n",
       "      <td>no</td>\n",
       "      <td>yes</td>\n",
       "      <td>yes</td>\n",
       "      <td>unknown</td>\n",
       "      <td>may</td>\n",
       "      <td>unknown</td>\n",
       "      <td>no</td>\n",
       "    </tr>\n",
       "    <tr>\n",
       "      <th>3</th>\n",
       "      <td>blue-collar</td>\n",
       "      <td>married</td>\n",
       "      <td>unknown</td>\n",
       "      <td>no</td>\n",
       "      <td>yes</td>\n",
       "      <td>no</td>\n",
       "      <td>unknown</td>\n",
       "      <td>may</td>\n",
       "      <td>unknown</td>\n",
       "      <td>no</td>\n",
       "    </tr>\n",
       "    <tr>\n",
       "      <th>4</th>\n",
       "      <td>unknown</td>\n",
       "      <td>single</td>\n",
       "      <td>unknown</td>\n",
       "      <td>no</td>\n",
       "      <td>no</td>\n",
       "      <td>no</td>\n",
       "      <td>unknown</td>\n",
       "      <td>may</td>\n",
       "      <td>unknown</td>\n",
       "      <td>no</td>\n",
       "    </tr>\n",
       "  </tbody>\n",
       "</table>\n",
       "</div>"
      ],
      "text/plain": [
       "            job  marital  education default housing loan  contact month  \\\n",
       "0    management  married   tertiary      no     yes   no  unknown   may   \n",
       "1    technician   single  secondary      no     yes   no  unknown   may   \n",
       "2  entrepreneur  married  secondary      no     yes  yes  unknown   may   \n",
       "3   blue-collar  married    unknown      no     yes   no  unknown   may   \n",
       "4       unknown   single    unknown      no      no   no  unknown   may   \n",
       "\n",
       "  poutcome   y  \n",
       "0  unknown  no  \n",
       "1  unknown  no  \n",
       "2  unknown  no  \n",
       "3  unknown  no  \n",
       "4  unknown  no  "
      ]
     },
     "execution_count": 356,
     "metadata": {},
     "output_type": "execute_result"
    }
   ],
   "source": [
    "objcols.head()"
   ]
  },
  {
   "cell_type": "code",
   "execution_count": 357,
   "id": "528b6d26-35c0-490e-ac9d-9acb8c798389",
   "metadata": {},
   "outputs": [
    {
     "data": {
      "text/plain": [
       "Index(['job', 'marital', 'education', 'default', 'housing', 'loan', 'contact',\n",
       "       'month', 'poutcome', 'y'],\n",
       "      dtype='object')"
      ]
     },
     "execution_count": 357,
     "metadata": {},
     "output_type": "execute_result"
    }
   ],
   "source": [
    "objcols.columns"
   ]
  },
  {
   "cell_type": "code",
   "execution_count": 358,
   "id": "9d635cab-872d-44bc-84d9-75f8457ba57c",
   "metadata": {},
   "outputs": [],
   "source": [
    "objcols_dummy=pd.get_dummies(objcols,columns=['job', 'marital', 'education', 'default', 'housing', 'loan', 'contact','month', 'poutcome'])"
   ]
  },
  {
   "cell_type": "code",
   "execution_count": 359,
   "id": "92914515-bee4-4ab3-9011-30251a6d02cf",
   "metadata": {},
   "outputs": [],
   "source": [
    "# concat num & obj into 1\n",
    "bankfile_final=pd.concat([numcols_scale,objcols_dummy],axis=1)"
   ]
  },
  {
   "cell_type": "code",
   "execution_count": 360,
   "id": "eb07bba0-1a8a-4502-884b-4d4cd3bf8989",
   "metadata": {},
   "outputs": [],
   "source": [
    "# spilt data dependent variable (y) & independent variable(x)\n",
    "y=bankfile.y\n",
    "x=bankfile_final.drop('y',axis=1)"
   ]
  },
  {
   "cell_type": "code",
   "execution_count": 361,
   "id": "bd209a13-d547-4436-9607-be90c1a0406b",
   "metadata": {},
   "outputs": [],
   "source": [
    "# classification models - dependent variable must be label encoded\n",
    "from sklearn.preprocessing import LabelEncoder"
   ]
  },
  {
   "cell_type": "code",
   "execution_count": 362,
   "id": "4cafce7b-a4d6-49af-8d04-6ad28ddf7127",
   "metadata": {},
   "outputs": [],
   "source": [
    "y=LabelEncoder().fit_transform(y)"
   ]
  },
  {
   "cell_type": "code",
   "execution_count": 363,
   "id": "b1f0d7f3-632f-401a-85fc-429df7ed610b",
   "metadata": {},
   "outputs": [],
   "source": [
    "from sklearn.linear_model import LogisticRegression"
   ]
  },
  {
   "cell_type": "code",
   "execution_count": 364,
   "id": "2eac25a1-acce-4959-99de-5d040c07569b",
   "metadata": {},
   "outputs": [
    {
     "data": {
      "text/plain": [
       "0.9017495742186636"
      ]
     },
     "execution_count": 364,
     "metadata": {},
     "output_type": "execute_result"
    }
   ],
   "source": [
    "logit=LogisticRegression(max_iter=2000).fit(x,y)\n",
    "logit.score(x,y)"
   ]
  },
  {
   "cell_type": "code",
   "execution_count": 365,
   "id": "2feeb025-36d9-4052-a329-24286ca5cccf",
   "metadata": {},
   "outputs": [],
   "source": [
    "logit_pred=logit.predict(x)"
   ]
  },
  {
   "cell_type": "code",
   "execution_count": 366,
   "id": "bffe16d5-c09b-4f9b-8ca1-931adc636f0a",
   "metadata": {},
   "outputs": [
    {
     "data": {
      "text/html": [
       "<div>\n",
       "<style scoped>\n",
       "    .dataframe tbody tr th:only-of-type {\n",
       "        vertical-align: middle;\n",
       "    }\n",
       "\n",
       "    .dataframe tbody tr th {\n",
       "        vertical-align: top;\n",
       "    }\n",
       "\n",
       "    .dataframe thead th {\n",
       "        text-align: right;\n",
       "    }\n",
       "</style>\n",
       "<table border=\"1\" class=\"dataframe\">\n",
       "  <thead>\n",
       "    <tr style=\"text-align: right;\">\n",
       "      <th>col_0</th>\n",
       "      <th>0</th>\n",
       "      <th>1</th>\n",
       "    </tr>\n",
       "    <tr>\n",
       "      <th>row_0</th>\n",
       "      <th></th>\n",
       "      <th></th>\n",
       "    </tr>\n",
       "  </thead>\n",
       "  <tbody>\n",
       "    <tr>\n",
       "      <th>0</th>\n",
       "      <td>38940</td>\n",
       "      <td>982</td>\n",
       "    </tr>\n",
       "    <tr>\n",
       "      <th>1</th>\n",
       "      <td>3460</td>\n",
       "      <td>1829</td>\n",
       "    </tr>\n",
       "  </tbody>\n",
       "</table>\n",
       "</div>"
      ],
      "text/plain": [
       "col_0      0     1\n",
       "row_0             \n",
       "0      38940   982\n",
       "1       3460  1829"
      ]
     },
     "execution_count": 366,
     "metadata": {},
     "output_type": "execute_result"
    }
   ],
   "source": [
    "pd.crosstab(y,logit_pred) # confusion matrix"
   ]
  },
  {
   "cell_type": "code",
   "execution_count": 367,
   "id": "e7b74cac-f018-4849-b282-518d79400904",
   "metadata": {},
   "outputs": [],
   "source": [
    "# b) Decision Tree Classifier\n",
    "from sklearn.tree import DecisionTreeClassifier"
   ]
  },
  {
   "cell_type": "code",
   "execution_count": 368,
   "id": "bae6000c-7400-4370-83ce-2f04cd29e2ce",
   "metadata": {},
   "outputs": [
    {
     "data": {
      "text/plain": [
       "array([0.88300343, 0.75094006, 0.73921699, 0.4954656 , 0.79550984])"
      ]
     },
     "execution_count": 368,
     "metadata": {},
     "output_type": "execute_result"
    }
   ],
   "source": [
    "from sklearn.model_selection import cross_val_score\n",
    "cross_val_score(treemodel,x,y)"
   ]
  },
  {
   "cell_type": "code",
   "execution_count": 369,
   "id": "855e1892-4a41-4a8d-8ddc-900901bcee69",
   "metadata": {},
   "outputs": [],
   "source": [
    "treemodel=DecisionTreeClassifier(max_depth=6).fit(x,y)"
   ]
  },
  {
   "cell_type": "code",
   "execution_count": 370,
   "id": "c072b14a-8dca-4aa9-96cd-b156af88f8f0",
   "metadata": {},
   "outputs": [
    {
     "data": {
      "text/plain": [
       "0.9061069208820862"
      ]
     },
     "execution_count": 370,
     "metadata": {},
     "output_type": "execute_result"
    }
   ],
   "source": [
    "treemodel.score(x,y)"
   ]
  },
  {
   "cell_type": "code",
   "execution_count": 371,
   "id": "08654d5b-dc32-4eda-9edc-1ea48303a366",
   "metadata": {},
   "outputs": [],
   "source": [
    "tree_pred=treemodel.predict(x)"
   ]
  },
  {
   "cell_type": "code",
   "execution_count": 372,
   "id": "7d19c0bb-a1be-49ca-a071-2ecf797e0ab5",
   "metadata": {},
   "outputs": [
    {
     "data": {
      "text/html": [
       "<div>\n",
       "<style scoped>\n",
       "    .dataframe tbody tr th:only-of-type {\n",
       "        vertical-align: middle;\n",
       "    }\n",
       "\n",
       "    .dataframe tbody tr th {\n",
       "        vertical-align: top;\n",
       "    }\n",
       "\n",
       "    .dataframe thead th {\n",
       "        text-align: right;\n",
       "    }\n",
       "</style>\n",
       "<table border=\"1\" class=\"dataframe\">\n",
       "  <thead>\n",
       "    <tr style=\"text-align: right;\">\n",
       "      <th>col_0</th>\n",
       "      <th>0</th>\n",
       "      <th>1</th>\n",
       "    </tr>\n",
       "    <tr>\n",
       "      <th>row_0</th>\n",
       "      <th></th>\n",
       "      <th></th>\n",
       "    </tr>\n",
       "  </thead>\n",
       "  <tbody>\n",
       "    <tr>\n",
       "      <th>0</th>\n",
       "      <td>38646</td>\n",
       "      <td>1276</td>\n",
       "    </tr>\n",
       "    <tr>\n",
       "      <th>1</th>\n",
       "      <td>2969</td>\n",
       "      <td>2320</td>\n",
       "    </tr>\n",
       "  </tbody>\n",
       "</table>\n",
       "</div>"
      ],
      "text/plain": [
       "col_0      0     1\n",
       "row_0             \n",
       "0      38646  1276\n",
       "1       2969  2320"
      ]
     },
     "execution_count": 372,
     "metadata": {},
     "output_type": "execute_result"
    }
   ],
   "source": [
    "pd.crosstab(y,tree_pred)"
   ]
  },
  {
   "cell_type": "code",
   "execution_count": 373,
   "id": "5aa77f73-a224-40ac-86e2-3993e4d38f1a",
   "metadata": {},
   "outputs": [],
   "source": [
    "# c) Random Forest Classifier\n",
    "from sklearn.ensemble import RandomForestClassifier"
   ]
  },
  {
   "cell_type": "code",
   "execution_count": 374,
   "id": "38e5e0c5-3386-48f7-ac9e-d979d8db8a45",
   "metadata": {},
   "outputs": [],
   "source": [
    "rfmodel=RandomForestClassifier(n_estimators=2000).fit(x,y)"
   ]
  },
  {
   "cell_type": "code",
   "execution_count": 375,
   "id": "4265dc70-0855-4b9b-8f58-0b7ebfb36fb3",
   "metadata": {},
   "outputs": [
    {
     "data": {
      "text/plain": [
       "1.0"
      ]
     },
     "execution_count": 375,
     "metadata": {},
     "output_type": "execute_result"
    }
   ],
   "source": [
    "rfmodel.score(x,y)"
   ]
  },
  {
   "cell_type": "code",
   "execution_count": 376,
   "id": "1bdbbfc9-2f4a-468f-b774-6153395eb408",
   "metadata": {},
   "outputs": [],
   "source": [
    "rf_pred=rfmodel.predict(x)"
   ]
  },
  {
   "cell_type": "code",
   "execution_count": 377,
   "id": "c0ef3c34-c019-4b2a-84aa-28466b213d1c",
   "metadata": {},
   "outputs": [
    {
     "data": {
      "text/html": [
       "<div>\n",
       "<style scoped>\n",
       "    .dataframe tbody tr th:only-of-type {\n",
       "        vertical-align: middle;\n",
       "    }\n",
       "\n",
       "    .dataframe tbody tr th {\n",
       "        vertical-align: top;\n",
       "    }\n",
       "\n",
       "    .dataframe thead th {\n",
       "        text-align: right;\n",
       "    }\n",
       "</style>\n",
       "<table border=\"1\" class=\"dataframe\">\n",
       "  <thead>\n",
       "    <tr style=\"text-align: right;\">\n",
       "      <th>col_0</th>\n",
       "      <th>0</th>\n",
       "      <th>1</th>\n",
       "    </tr>\n",
       "    <tr>\n",
       "      <th>row_0</th>\n",
       "      <th></th>\n",
       "      <th></th>\n",
       "    </tr>\n",
       "  </thead>\n",
       "  <tbody>\n",
       "    <tr>\n",
       "      <th>0</th>\n",
       "      <td>39922</td>\n",
       "      <td>0</td>\n",
       "    </tr>\n",
       "    <tr>\n",
       "      <th>1</th>\n",
       "      <td>0</td>\n",
       "      <td>5289</td>\n",
       "    </tr>\n",
       "  </tbody>\n",
       "</table>\n",
       "</div>"
      ],
      "text/plain": [
       "col_0      0     1\n",
       "row_0             \n",
       "0      39922     0\n",
       "1          0  5289"
      ]
     },
     "execution_count": 377,
     "metadata": {},
     "output_type": "execute_result"
    }
   ],
   "source": [
    "pd.crosstab(y,rf_pred)"
   ]
  },
  {
   "cell_type": "code",
   "execution_count": null,
   "id": "774c79b6-954c-4e4d-a080-c5fc7c9eedf0",
   "metadata": {},
   "outputs": [],
   "source": []
  }
 ],
 "metadata": {
  "kernelspec": {
   "display_name": "Python 3 (ipykernel)",
   "language": "python",
   "name": "python3"
  },
  "language_info": {
   "codemirror_mode": {
    "name": "ipython",
    "version": 3
   },
   "file_extension": ".py",
   "mimetype": "text/x-python",
   "name": "python",
   "nbconvert_exporter": "python",
   "pygments_lexer": "ipython3",
   "version": "3.11.7"
  }
 },
 "nbformat": 4,
 "nbformat_minor": 5
}
